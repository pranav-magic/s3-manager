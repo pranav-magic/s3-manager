{
 "cells": [
  {
   "cell_type": "code",
   "execution_count": 3,
   "metadata": {},
   "outputs": [
    {
     "name": "stdout",
     "output_type": "stream",
     "text": [
      "c:\\Users\\pranavc.MSE\\AppData\\Local\\Programs\\Python\\Python313\\Lib\\site-packages\\certifi\\cacert.pem\n"
     ]
    }
   ],
   "source": [
    "import certifi\n",
    "print(certifi.where())"
   ]
  },
  {
   "cell_type": "code",
   "execution_count": 4,
   "metadata": {},
   "outputs": [
    {
     "data": {
      "text/plain": [
       "True"
      ]
     },
     "execution_count": 4,
     "metadata": {},
     "output_type": "execute_result"
    }
   ],
   "source": [
    "import boto3\n",
    "import os\n",
    "from dotenv import load_dotenv\n",
    "load_dotenv()"
   ]
  },
  {
   "cell_type": "code",
   "execution_count": 5,
   "metadata": {},
   "outputs": [],
   "source": [
    "def upload_to_s3(s3_upload_path,file_path, bucket_name, metadata):\n",
    "    s3_client = boto3.client(\n",
    "        's3',\n",
    "        aws_access_key_id=os.getenv(\"AWS_Access_ID\"),\n",
    "        aws_secret_access_key=os.getenv(\"AWS_Secret_Access_Key\"),\n",
    "        region_name=os.getenv(\"AWS_Region\")\n",
    "    )\n",
    "    \n",
    "    file_name = os.path.basename(file_path)\n",
    "    s3_key = f\"{s3_upload_path}{file_name}\"\n",
    "    \n",
    "    try:\n",
    "        s3_client.upload_file(\n",
    "            file_path, bucket_name, s3_key,\n",
    "            ExtraArgs={\"Metadata\": metadata}\n",
    "        )\n",
    "        print(f\"File '{file_name}' uploaded successfully to '{bucket_name}/{s3_key}' with metadata: {metadata}\")\n",
    "    except Exception as e:\n",
    "        print(f\"Error uploading file: {e}\")"
   ]
  },
  {
   "cell_type": "code",
   "execution_count": null,
   "metadata": {},
   "outputs": [
    {
     "name": "stdout",
     "output_type": "stream",
     "text": [
      "File 'Assignment.xlsx' uploaded successfully to 's3-magic-mcs-main-kmp-164735427272/dev_sandbox/xpi/files/Assignment.xlsx' with metadata: {'sidebar_id': '4509', 'sidebar_path': 'dev_sandbox/testing/xpi/files/'}\n"
     ]
    }
   ],
   "source": [
    "s3_upload_path = \"dev_sandbox/xpi/files/\"\n",
    "file_path = \"temp/Assignment.xlsx\"\n",
    "bucket_name = os.getenv(\"S3_Bucket_Name\")\n",
    "metadata = {\n",
    "            \"sidebar_id\": \"4508\",\n",
    "            \"sidebar_path\": \"dev_sandbox/testing/xpi/files/\",\n",
    "            }\n",
    "upload_to_s3(s3_upload_path,file_path, bucket_name, metadata)"
   ]
  },
  {
   "cell_type": "code",
   "execution_count": 6,
   "metadata": {},
   "outputs": [],
   "source": [
    "def fetch_s3_file_metadata(bucket_name, s3_key):\n",
    "    s3_client = boto3.client(\n",
    "        's3',\n",
    "        aws_access_key_id=os.getenv(\"AWS_Access_ID\"),\n",
    "        aws_secret_access_key=os.getenv(\"AWS_Secret_Access_Key\"),\n",
    "        region_name=os.getenv(\"AWS_Region\")\n",
    "    )\n",
    "\n",
    "    try:\n",
    "        response = s3_client.head_object(Bucket=bucket_name, Key=s3_key)\n",
    "        metadata = response.get(\"Metadata\", {})\n",
    "        file_name = os.path.basename(s3_key)\n",
    "\n",
    "        print(f\"File Name: {file_name}\")\n",
    "        print(f\"Metadata: {metadata}\")\n",
    "        return\n",
    "\n",
    "    except Exception as e:\n",
    "        print(f\"Error fetching metadata: {e}\")\n",
    "        return None"
   ]
  },
  {
   "cell_type": "code",
   "execution_count": 7,
   "metadata": {},
   "outputs": [
    {
     "name": "stdout",
     "output_type": "stream",
     "text": [
      "Error fetching metadata: SSL validation failed for https://s3-magic-mcs-main-kmp-164735427272.s3.eu-west-1.amazonaws.com/dev_sandbox/testing/xpi/files/L17%20More%20About%20Magic%20xpi.txt [SSL: CERTIFICATE_VERIFY_FAILED] certificate verify failed: self-signed certificate in certificate chain (_ssl.c:1028)\n"
     ]
    }
   ],
   "source": [
    "s3_key = \"dev_sandbox/testing/xpi/files/L17 More About Magic xpi.txt\"\n",
    "fetch_s3_file_metadata(os.getenv(\"S3_Bucket_Name\"), s3_key)"
   ]
  },
  {
   "cell_type": "code",
   "execution_count": 9,
   "metadata": {},
   "outputs": [
    {
     "name": "stdout",
     "output_type": "stream",
     "text": [
      "Downloaded 'Magic XPI 4.14/Assignment.xlsx' from bucket 's3-magic-mcs-main-kmp-164735427272' to 'Assignment.xlsx'\n"
     ]
    }
   ],
   "source": [
    "def download_from_s3(bucket_name, s3_key, download_path):\n",
    "    s3_client = boto3.client(\n",
    "        's3',\n",
    "        aws_access_key_id=os.getenv(\"AWS_Access_ID\"),\n",
    "        aws_secret_access_key=os.getenv(\"AWS_Secret_Access_Key\"),\n",
    "        region_name=os.getenv(\"AWS_Region\")\n",
    "    )\n",
    "    try:\n",
    "        s3_client.download_file(bucket_name, s3_key, download_path)\n",
    "        print(f\"Downloaded '{s3_key}' from bucket '{bucket_name}' to '{download_path}'\")\n",
    "    except Exception as e:\n",
    "        print(f\"Error downloading file: {e}\")\n",
    "\n",
    "\n",
    "download_from_s3(bucket_name, \"Magic XPI 4.14/Assignment.xlsx\", \"Assignment.xlsx\")"
   ]
  },
  {
   "cell_type": "code",
   "execution_count": null,
   "metadata": {},
   "outputs": [],
   "source": []
  }
 ],
 "metadata": {
  "kernelspec": {
   "display_name": "Python 3",
   "language": "python",
   "name": "python3"
  },
  "language_info": {
   "codemirror_mode": {
    "name": "ipython",
    "version": 3
   },
   "file_extension": ".py",
   "mimetype": "text/x-python",
   "name": "python",
   "nbconvert_exporter": "python",
   "pygments_lexer": "ipython3",
   "version": "3.13.2"
  }
 },
 "nbformat": 4,
 "nbformat_minor": 2
}
